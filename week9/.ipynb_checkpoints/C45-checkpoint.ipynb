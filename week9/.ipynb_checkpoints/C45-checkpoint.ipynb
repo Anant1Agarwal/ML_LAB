{
 "cells": [
  {
   "cell_type": "code",
   "execution_count": 2,
   "id": "09663734-e78d-40c9-aa5c-9e0bf516d0bf",
   "metadata": {},
   "outputs": [],
   "source": [
    "import pandas as pd \n",
    "import numpy as np "
   ]
  },
  {
   "cell_type": "code",
   "execution_count": 3,
   "id": "0798d05f-60ce-40eb-8095-5cfde08a3525",
   "metadata": {},
   "outputs": [
    {
     "data": {
      "text/html": [
       "<div>\n",
       "<style scoped>\n",
       "    .dataframe tbody tr th:only-of-type {\n",
       "        vertical-align: middle;\n",
       "    }\n",
       "\n",
       "    .dataframe tbody tr th {\n",
       "        vertical-align: top;\n",
       "    }\n",
       "\n",
       "    .dataframe thead th {\n",
       "        text-align: right;\n",
       "    }\n",
       "</style>\n",
       "<table border=\"1\" class=\"dataframe\">\n",
       "  <thead>\n",
       "    <tr style=\"text-align: right;\">\n",
       "      <th></th>\n",
       "      <th>Outlook</th>\n",
       "      <th>Temp</th>\n",
       "      <th>Humidity</th>\n",
       "      <th>Wind</th>\n",
       "      <th>Tennis</th>\n",
       "    </tr>\n",
       "  </thead>\n",
       "  <tbody>\n",
       "    <tr>\n",
       "      <th>0</th>\n",
       "      <td>Sunny</td>\n",
       "      <td>Hot</td>\n",
       "      <td>High</td>\n",
       "      <td>Weak</td>\n",
       "      <td>No</td>\n",
       "    </tr>\n",
       "    <tr>\n",
       "      <th>1</th>\n",
       "      <td>Sunny</td>\n",
       "      <td>Hot</td>\n",
       "      <td>High</td>\n",
       "      <td>Strong</td>\n",
       "      <td>No</td>\n",
       "    </tr>\n",
       "    <tr>\n",
       "      <th>2</th>\n",
       "      <td>Overcast</td>\n",
       "      <td>Hot</td>\n",
       "      <td>High</td>\n",
       "      <td>Weak</td>\n",
       "      <td>Yes</td>\n",
       "    </tr>\n",
       "    <tr>\n",
       "      <th>3</th>\n",
       "      <td>Rain</td>\n",
       "      <td>Mild</td>\n",
       "      <td>High</td>\n",
       "      <td>Weak</td>\n",
       "      <td>Yes</td>\n",
       "    </tr>\n",
       "    <tr>\n",
       "      <th>4</th>\n",
       "      <td>Rain</td>\n",
       "      <td>Cool</td>\n",
       "      <td>Normal</td>\n",
       "      <td>Weak</td>\n",
       "      <td>Yes</td>\n",
       "    </tr>\n",
       "  </tbody>\n",
       "</table>\n",
       "</div>"
      ],
      "text/plain": [
       "    Outlook  Temp Humidity    Wind Tennis\n",
       "0     Sunny   Hot     High    Weak     No\n",
       "1     Sunny   Hot     High  Strong     No\n",
       "2  Overcast   Hot     High    Weak    Yes\n",
       "3      Rain  Mild     High    Weak    Yes\n",
       "4      Rain  Cool   Normal    Weak    Yes"
      ]
     },
     "execution_count": 3,
     "metadata": {},
     "output_type": "execute_result"
    }
   ],
   "source": [
    "df=pd.read_csv('weather_data_tennis.csv')\n",
    "df.head()"
   ]
  },
  {
   "cell_type": "code",
   "execution_count": 4,
   "id": "2e91a99d-f56f-45e0-b041-e735e906942c",
   "metadata": {
    "scrolled": true
   },
   "outputs": [],
   "source": [
    "class Node:\n",
    "    def __init__(self,):\n",
    "        self.attribute=None\n",
    "        self.branches={}\n",
    "        self.leaf_node=False\n",
    "        self.ans=None\n",
    "\n",
    "class ID3DecisionTree:\n",
    "    def __init__(self,): \n",
    "        self.root=None\n",
    "\n",
    "def calc_info_gain(data, feature, target):\n",
    "    entropy_parent=0\n",
    "    # simple entropy of all classes in target column for all training samples\n",
    "    for cls_label in data[target].unique():\n",
    "        p_cls=len(data[data[target]==cls_label])/len(data)\n",
    "        if p_cls==0:\n",
    "            continue\n",
    "        entropy_parent+=-p_cls*np.log2(p_cls)\n",
    "            \n",
    "    #weighted average entropy of the subsets created by splitting on attribute\n",
    "    # sum of sv/s* entropy(s)---> sum of sv/s* [-p1logp1 - p2logp2-p3logp3]\n",
    "    children_entropy=0\n",
    "    #iterating over all the branches if feature is selected as split node\n",
    "    for branch in data[feature].unique():\n",
    "        entropy_subset=0\n",
    "        for cls_label in data[target].unique():\n",
    "            p_cls_branch=len(data[(data[feature]==branch) & (data[target]==cls_label)])/len(data[data[feature]==branch])\n",
    "            if p_cls_branch==0:\n",
    "                continue\n",
    "            entropy_subset+=-p_cls_branch*np.log2(p_cls_branch)\n",
    "        children_entropy+=entropy_subset* (len(data[data[feature]==branch])/len(data))\n",
    "\n",
    "    return entropy_parent-children_entropy\n",
    "\n",
    "def calc_gain_ratio(data, feature, target):\n",
    "    info_gain=calc_info_gain(data,feature,target)\n",
    "\n",
    "    split_info=0\n",
    "    # sum of sv/s*log(sv/s)-----> sv1/s*[-log(sv1/s)]+ sv2/sv *[-log(sv2/s)] +sv3/sv[-log(sv3/s)]\n",
    "    # entropy of the distribution of instances across the branches created by the split on attribute\n",
    "    # but it does not account for the target variable's entropy within each subset.\n",
    "    for branch in data[feature].unique():\n",
    "        p_branch=len(data[data[feature]==branch])/len(data)\n",
    "        if p_branch==0:\n",
    "            continue\n",
    "        split_info+=-p_branch*np.log2(p_branch)\n",
    "\n",
    "    return (info_gain)/split_info\n",
    "def recursive_split(data,target):\n",
    "\n",
    "    #pure class means a leaf node\n",
    "    if len(data[target].unique())==1: \n",
    "        new_node=Node()\n",
    "        new_node.leaf_node=True\n",
    "        new_node.ans=data[target].unique()[0]\n",
    "        return new_node\n",
    "\n",
    "\n",
    "    best_gain_ratio=float('-inf')\n",
    "    best_feat=None\n",
    "    for feature in data.columns:\n",
    "        if feature==target:\n",
    "            continue\n",
    "        curr_gain_ratio=calc_gain_ratio(data,feature,target)\n",
    "        if curr_gain_ratio>best_gain_ratio:\n",
    "            best_gain_ratio=curr_gain_ratio\n",
    "            best_feat=feature\n",
    "\n",
    "    #choosing a feature a creating a node\n",
    "    new_node=Node()\n",
    "    new_node.attribute=best_feat\n",
    "\n",
    "    #making a branch for each unique value in best feature\n",
    "    for x in data[best_feat].unique():\n",
    "        #filtering data and droping the best feature column for down the tree\n",
    "        new_data=data[data[best_feat]==x].drop(best_feat, axis=1)\n",
    "        new_node.branches[x]=recursive_split(new_data,target)\n",
    "\n",
    "    return new_node\n",
    "\n",
    "    \n",
    "\n",
    "    "
   ]
  },
  {
   "cell_type": "code",
   "execution_count": 5,
   "id": "75bfc121-f39f-4312-9fb9-f7b392bb87af",
   "metadata": {},
   "outputs": [],
   "source": [
    "tree = ID3DecisionTree()\n",
    "tree.root = recursive_split(df, 'Tennis')\n"
   ]
  },
  {
   "cell_type": "code",
   "execution_count": 6,
   "id": "b0ac8b32-c3de-4847-8822-4d42d14b05c1",
   "metadata": {},
   "outputs": [
    {
     "name": "stdout",
     "output_type": "stream",
     "text": [
      "     Outlook  Temp Humidity    Wind Tennis\n",
      "0      Sunny   Hot     High    Weak     No\n",
      "1      Sunny   Hot     High  Strong     No\n",
      "2   Overcast   Hot     High    Weak    Yes\n",
      "3       Rain  Mild     High    Weak    Yes\n",
      "4       Rain  Cool   Normal    Weak    Yes\n",
      "5       Rain  Cool   Normal  Strong     No\n",
      "6   Overcast  Cool   Normal  Strong    Yes\n",
      "7      Sunny  Mild     High    Weak     No\n",
      "8      Sunny  Cool   Normal    Weak    Yes\n",
      "9       Rain  Mild   Normal    Weak    Yes\n",
      "10     Sunny  Mild   Normal  Strong    Yes\n",
      "11  Overcast  Mild     High  Strong    Yes\n",
      "12  Overcast   Hot   Normal    Weak    Yes\n",
      "13      Rain  Mild   Normal  Strong     No\n"
     ]
    }
   ],
   "source": [
    "print(df)"
   ]
  },
  {
   "cell_type": "code",
   "execution_count": 7,
   "id": "995c7320-0d61-421d-9471-8f9ea4865dbb",
   "metadata": {},
   "outputs": [],
   "source": [
    "# def traverse_using_dfs(curr ,**features): \n",
    "#     if curr.leaf_node:\n",
    "#         return ans\n",
    "\n",
    "#     # return traverse_using_dfs(curr.branches[features[curr.attribute]] ,**features)\n",
    "        "
   ]
  },
  {
   "cell_type": "code",
   "execution_count": 8,
   "id": "120215d4-5100-44ae-8ad5-2d27e7aabc96",
   "metadata": {},
   "outputs": [],
   "source": [
    "def traverse_using_dfs(curr ,u_Outlook,u_Temp,u_Humidity,u_Wind): \n",
    "    if curr.leaf_node: \n",
    "        return curr.ans\n",
    "    if(curr.attribute=='Outlook'): \n",
    "        return traverse_using_dfs(curr.branches[u_Outlook],u_Outlook,u_Temp,u_Humidity,u_Wind)\n",
    "    if(curr.attribute=='Temp'): \n",
    "        return traverse_using_dfs(curr.branches[u_Temp],u_Outlook,u_Temp,u_Humidity,u_Wind)\n",
    "    if(curr.attribute=='Humidity'): \n",
    "        return traverse_using_dfs(curr.branches[u_Humidity],u_Outlook,u_Temp,u_Humidity,u_Wind)\n",
    "    if(curr.attribute=='Wind'): \n",
    "        return traverse_using_dfs(curr.branches[u_Wind],u_Outlook,u_Temp,u_Humidity,u_Wind)"
   ]
  },
  {
   "cell_type": "code",
   "execution_count": 23,
   "id": "4e52dd01-58ca-470f-8c75-246d51999afe",
   "metadata": {},
   "outputs": [
    {
     "name": "stdin",
     "output_type": "stream",
     "text": [
      "Outlook =  Rain\n",
      "temp =  Mild\n",
      "humidity =  Normal\n",
      "wind =  Strong\n"
     ]
    },
    {
     "name": "stdout",
     "output_type": "stream",
     "text": [
      "Prediction is No\n"
     ]
    }
   ],
   "source": [
    "#taking user inputs\n",
    "user_outlook=input(f\"Outlook = \")\n",
    "user_temp = input(f'temp = ')\n",
    "user_humidity = input(f'humidity = ')\n",
    "user_wind = input(f'wind = ')\n",
    "\n",
    "#outputAssertionError\n",
    "print(f\"Prediction is {traverse_using_dfs(tree.root,user_outlook,user_temp,user_humidity,user_wind)}\")"
   ]
  },
  {
   "cell_type": "code",
   "execution_count": 10,
   "id": "2dd82573-5a9c-40f2-9dfd-836bb13a332d",
   "metadata": {},
   "outputs": [],
   "source": [
    "# Outlook = Rain\n",
    "# temp =  Mild\n",
    "# humidity =  Normal\n",
    "# wind =  Strong\n",
    "\n"
   ]
  },
  {
   "cell_type": "code",
   "execution_count": null,
   "id": "cfcb1be5-aa73-47e3-bbdc-a27f58f12318",
   "metadata": {},
   "outputs": [],
   "source": []
  }
 ],
 "metadata": {
  "kernelspec": {
   "display_name": "Python 3 (ipykernel)",
   "language": "python",
   "name": "python3"
  },
  "language_info": {
   "codemirror_mode": {
    "name": "ipython",
    "version": 3
   },
   "file_extension": ".py",
   "mimetype": "text/x-python",
   "name": "python",
   "nbconvert_exporter": "python",
   "pygments_lexer": "ipython3",
   "version": "3.12.4"
  }
 },
 "nbformat": 4,
 "nbformat_minor": 5
}
