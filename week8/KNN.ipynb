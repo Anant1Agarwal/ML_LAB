{
 "cells": [
  {
   "cell_type": "markdown",
   "id": "1e65daa7-d16f-483e-b5ec-82ce0e03d82f",
   "metadata": {},
   "source": [
    "# Q1 A. Classification of Fruits\n"
   ]
  },
  {
   "cell_type": "markdown",
   "id": "96198d9f-e508-4cfa-a345-8d2f2440d3d8",
   "metadata": {},
   "source": [
    "You are provided with a dataset of fruits. Each fruit is characterized by two features: weight (in grams) and sweetness level (on a scale of 1 to 10). You want to classify a new fruit as either an \"Apple\" or an \"Orange\" based on these features using the KNN algorithm."
   ]
  },
  {
   "cell_type": "code",
   "execution_count": 4,
   "id": "18beb09f-ad84-4376-bd7f-6ba684d7a40f",
   "metadata": {},
   "outputs": [],
   "source": [
    "import pandas as pd  \n",
    "import numpy as np \n",
    "import matplotlib.pyplot as plt\n"
   ]
  },
  {
   "cell_type": "code",
   "execution_count": 5,
   "id": "7564513d-3bc0-4b01-b427-017afb84b406",
   "metadata": {},
   "outputs": [
    {
     "data": {
      "text/html": [
       "<div>\n",
       "<style scoped>\n",
       "    .dataframe tbody tr th:only-of-type {\n",
       "        vertical-align: middle;\n",
       "    }\n",
       "\n",
       "    .dataframe tbody tr th {\n",
       "        vertical-align: top;\n",
       "    }\n",
       "\n",
       "    .dataframe thead th {\n",
       "        text-align: right;\n",
       "    }\n",
       "</style>\n",
       "<table border=\"1\" class=\"dataframe\">\n",
       "  <thead>\n",
       "    <tr style=\"text-align: right;\">\n",
       "      <th></th>\n",
       "      <th>FRUIT ID</th>\n",
       "      <th>Weight (grams)</th>\n",
       "      <th>Sweetness Level</th>\n",
       "      <th>Label (Fruit Type)</th>\n",
       "    </tr>\n",
       "  </thead>\n",
       "  <tbody>\n",
       "    <tr>\n",
       "      <th>0</th>\n",
       "      <td>1</td>\n",
       "      <td>180</td>\n",
       "      <td>7</td>\n",
       "      <td>Apple</td>\n",
       "    </tr>\n",
       "    <tr>\n",
       "      <th>1</th>\n",
       "      <td>2</td>\n",
       "      <td>200</td>\n",
       "      <td>6</td>\n",
       "      <td>Apple</td>\n",
       "    </tr>\n",
       "    <tr>\n",
       "      <th>2</th>\n",
       "      <td>3</td>\n",
       "      <td>150</td>\n",
       "      <td>4</td>\n",
       "      <td>Orange</td>\n",
       "    </tr>\n",
       "    <tr>\n",
       "      <th>3</th>\n",
       "      <td>4</td>\n",
       "      <td>170</td>\n",
       "      <td>5</td>\n",
       "      <td>Orange</td>\n",
       "    </tr>\n",
       "    <tr>\n",
       "      <th>4</th>\n",
       "      <td>5</td>\n",
       "      <td>160</td>\n",
       "      <td>6</td>\n",
       "      <td>Apple</td>\n",
       "    </tr>\n",
       "  </tbody>\n",
       "</table>\n",
       "</div>"
      ],
      "text/plain": [
       "   FRUIT ID  Weight (grams)  Sweetness Level Label (Fruit Type)\n",
       "0         1             180                7              Apple\n",
       "1         2             200                6              Apple\n",
       "2         3             150                4             Orange\n",
       "3         4             170                5             Orange\n",
       "4         5             160                6              Apple"
      ]
     },
     "execution_count": 5,
     "metadata": {},
     "output_type": "execute_result"
    }
   ],
   "source": [
    "df=pd.read_csv('Book1.csv')\n",
    "df.head()"
   ]
  },
  {
   "cell_type": "markdown",
   "id": "44daceba-81db-407a-bad2-25c7cf0e7b83",
   "metadata": {},
   "source": [
    "### another way"
   ]
  },
  {
   "cell_type": "markdown",
   "id": "38865360-43c7-4541-885c-90ed6eb18fc4",
   "metadata": {},
   "source": [
    "data = {\n",
    "    'weight': [180, 200, 150, 170, 160, 140],\n",
    "    'sweetness': [7, 6, 4, 5, 6, 3],\n",
    "    'label': ['apple', 'apple','orange', 'orange', 'apple', 'orange']\n",
    "}\n",
    "\n",
    "df=pd.DataFrame(data)\n",
    "df.head()"
   ]
  },
  {
   "cell_type": "code",
   "execution_count": 8,
   "id": "75cdbad1-27ba-4a94-9be6-72db0f877451",
   "metadata": {},
   "outputs": [],
   "source": [
    "#np.sum because we are doing this for each feature in x1 and x2\n",
    "def euclidean_dis(x1,x2):\n",
    "    return np.sqrt(np.sum((x1-x2)**2))\n",
    "\n",
    "def manhattan_dis(x1,x2):\n",
    "    return np.sum(np.abs(x1-x2))\n",
    "\n",
    "def minkowski_dis(x1,x2,p):\n",
    "    return np.power(np.sum((x1-x2)**p),1/p)"
   ]
  },
  {
   "cell_type": "markdown",
   "id": "1fb9e5bb-a40c-49c9-9fc5-4947ef091201",
   "metadata": {},
   "source": [
    "### Plotting the Data"
   ]
  },
  {
   "cell_type": "code",
   "execution_count": 10,
   "id": "7a264c44-cff1-42d4-9172-86ddf2b349a6",
   "metadata": {},
   "outputs": [
    {
     "name": "stdout",
     "output_type": "stream",
     "text": [
      "0\n",
      "Apple\n",
      "   FRUIT ID  Weight (grams)  Sweetness Level Label (Fruit Type)\n",
      "0         1             180                7              Apple\n",
      "1         2             200                6              Apple\n",
      "4         5             160                6              Apple\n",
      "1\n",
      "Orange\n",
      "   FRUIT ID  Weight (grams)  Sweetness Level Label (Fruit Type)\n",
      "2         3             150                4             Orange\n",
      "3         4             170                5             Orange\n",
      "5         6             140                3             Orange\n"
     ]
    },
    {
     "data": {
      "text/plain": [
       "<Figure size 1000x600 with 0 Axes>"
      ]
     },
     "metadata": {},
     "output_type": "display_data"
    },
    {
     "data": {
      "image/png": "[encoded data removed]",
      "text/plain": [
       "<Figure size 800x800 with 1 Axes>"
      ]
     },
     "metadata": {},
     "output_type": "display_data"
    }
   ],
   "source": [
    "plt.figure(figsize=(10,6))\n",
    "fig,ax=plt.subplots(figsize=(8,8))\n",
    "\n",
    "grouped=df.groupby('Label (Fruit Type)')\n",
    "\n",
    "colors={'Apple':'red', 'Orange':'orange'}\n",
    "\n",
    "i=0\n",
    "for key, group in grouped:\n",
    "    print(i)\n",
    "    print(key)\n",
    "    print(group)\n",
    "    group.plot(ax=ax, kind='scatter',x='Weight (grams)' ,y='Sweetness Level', label=key, color=colors[key])\n",
    "    i+=1\n",
    "\n",
    "plt.xlabel('weight(x1)')\n",
    "plt.ylabel('Sweetness(x2)')\n",
    "plt.show()"
   ]
  },
  {
   "cell_type": "code",
   "execution_count": 11,
   "id": "e34279be-080c-4a7f-862e-343106fb59d8",
   "metadata": {},
   "outputs": [
    {
     "data": {
      "text/html": [
       "<div>\n",
       "<style scoped>\n",
       "    .dataframe tbody tr th:only-of-type {\n",
       "        vertical-align: middle;\n",
       "    }\n",
       "\n",
       "    .dataframe tbody tr th {\n",
       "        vertical-align: top;\n",
       "    }\n",
       "\n",
       "    .dataframe thead th {\n",
       "        text-align: right;\n",
       "    }\n",
       "</style>\n",
       "<table border=\"1\" class=\"dataframe\">\n",
       "  <thead>\n",
       "    <tr style=\"text-align: right;\">\n",
       "      <th></th>\n",
       "      <th>FRUIT ID</th>\n",
       "      <th>Weight (grams)</th>\n",
       "      <th>Sweetness Level</th>\n",
       "      <th>Label (Fruit Type)</th>\n",
       "      <th>label_num</th>\n",
       "    </tr>\n",
       "  </thead>\n",
       "  <tbody>\n",
       "    <tr>\n",
       "      <th>0</th>\n",
       "      <td>1</td>\n",
       "      <td>180</td>\n",
       "      <td>7</td>\n",
       "      <td>Apple</td>\n",
       "      <td>0</td>\n",
       "    </tr>\n",
       "    <tr>\n",
       "      <th>1</th>\n",
       "      <td>2</td>\n",
       "      <td>200</td>\n",
       "      <td>6</td>\n",
       "      <td>Apple</td>\n",
       "      <td>0</td>\n",
       "    </tr>\n",
       "    <tr>\n",
       "      <th>2</th>\n",
       "      <td>3</td>\n",
       "      <td>150</td>\n",
       "      <td>4</td>\n",
       "      <td>Orange</td>\n",
       "      <td>1</td>\n",
       "    </tr>\n",
       "    <tr>\n",
       "      <th>3</th>\n",
       "      <td>4</td>\n",
       "      <td>170</td>\n",
       "      <td>5</td>\n",
       "      <td>Orange</td>\n",
       "      <td>1</td>\n",
       "    </tr>\n",
       "    <tr>\n",
       "      <th>4</th>\n",
       "      <td>5</td>\n",
       "      <td>160</td>\n",
       "      <td>6</td>\n",
       "      <td>Apple</td>\n",
       "      <td>0</td>\n",
       "    </tr>\n",
       "    <tr>\n",
       "      <th>5</th>\n",
       "      <td>6</td>\n",
       "      <td>140</td>\n",
       "      <td>3</td>\n",
       "      <td>Orange</td>\n",
       "      <td>1</td>\n",
       "    </tr>\n",
       "  </tbody>\n",
       "</table>\n",
       "</div>"
      ],
      "text/plain": [
       "   FRUIT ID  Weight (grams)  Sweetness Level Label (Fruit Type)  label_num\n",
       "0         1             180                7              Apple          0\n",
       "1         2             200                6              Apple          0\n",
       "2         3             150                4             Orange          1\n",
       "3         4             170                5             Orange          1\n",
       "4         5             160                6              Apple          0\n",
       "5         6             140                3             Orange          1"
      ]
     },
     "execution_count": 11,
     "metadata": {},
     "output_type": "execute_result"
    }
   ],
   "source": [
    "label_map = {'Apple': 0, 'Orange': 1}\n",
    "df['label_num'] = df['Label (Fruit Type)'].map(label_map)\n",
    "\n",
    "df"
   ]
  },
  {
   "cell_type": "code",
   "execution_count": 12,
   "id": "e0c5822f-5b65-466b-b9a7-d0a2069312db",
   "metadata": {},
   "outputs": [
    {
     "name": "stdout",
     "output_type": "stream",
     "text": [
      "['Apple' 'Apple' 'Orange' 'Orange' 'Apple' 'Orange']\n",
      "[[180   7]\n",
      " [200   6]\n",
      " [150   4]\n",
      " [170   5]\n",
      " [160   6]\n",
      " [140   3]]\n"
     ]
    }
   ],
   "source": [
    "x_train=df.iloc[:, 1:-2].to_numpy()\n",
    "y_train=df.iloc[:,-2].to_numpy()\n",
    "print(y_train)\n",
    "print(x_train)"
   ]
  },
  {
   "cell_type": "markdown",
   "id": "3b9f58dc-d1cb-4237-88e2-149692f10ece",
   "metadata": {},
   "source": [
    "### Finding Neigbours"
   ]
  },
  {
   "cell_type": "code",
   "execution_count": 14,
   "id": "870b58b8-7ec0-4154-85e3-5a7918199d15",
   "metadata": {},
   "outputs": [],
   "source": [
    "def find_neighbours(k, method,x_train,new_point):\n",
    "    neighbour_array=[]\n",
    "    for i in range(len(x_train)):\n",
    "        if method =='euclidean':\n",
    "            dist=euclidean_dis(x_train[i],new_point)\n",
    "        if method =='manhattan':\n",
    "            dist=manhattan_dis(x_train[i],new_point)\n",
    "        if method =='minkowski':\n",
    "            dist=minkowski_dis(x_train[i],new_point,2)\n",
    "        neighbour_array.append([i,dist])\n",
    "    neighbour_array.sort(key=lambda x: x[1])\n",
    "\n",
    "    return neighbour_array[0:k]\n",
    "    "
   ]
  },
  {
   "cell_type": "markdown",
   "id": "33f81421-a9b2-45e2-83fc-386fe69b50a3",
   "metadata": {},
   "source": [
    "### Classification"
   ]
  },
  {
   "cell_type": "code",
   "execution_count": 16,
   "id": "67b42058-e41e-445d-a891-7466ac393cf9",
   "metadata": {},
   "outputs": [],
   "source": [
    "from collections import Counter\n",
    "def classify(neighbour_arr):\n",
    "    class_arr=[y_train[i[0]] for i in neighbour_arr ]\n",
    "    return Counter(class_arr).most_common(1)[0][0]\n",
    "\n",
    "# def _predict(self, x):\n",
    "#         # compute the distance\n",
    "#         distances = [euclidean_distance(x, x_train) for x_train in self.X_train]\n",
    "    \n",
    "#         # get the closest k\n",
    "#         k_indices = np.argsort(distances)[:self.k]\n",
    "#         k_nearest_labels = [self.y_train[i] for i in k_indices]\n",
    "\n",
    "#         # majority voye\n",
    "#         most_common = Counter(k_nearest_labels).most_common()\n",
    "#         return most_common[0][0]"
   ]
  },
  {
   "cell_type": "code",
   "execution_count": 17,
   "id": "9d9455ee-5d79-4193-b665-433dbebba902",
   "metadata": {},
   "outputs": [
    {
     "name": "stdout",
     "output_type": "stream",
     "text": [
      "using Distance metric of euclidean\n",
      "prediction with k=1 is : Orange\n",
      "prediction with k=3 is : Apple\n",
      "prediction with k=5 is : Orange\n",
      "using Distance metric of manhattan\n",
      "prediction with k=1 is : Orange\n",
      "prediction with k=3 is : Apple\n",
      "prediction with k=5 is : Orange\n",
      "using Distance metric of minkowski\n",
      "prediction with k=1 is : Orange\n",
      "prediction with k=3 is : Apple\n",
      "prediction with k=5 is : Orange\n"
     ]
    }
   ],
   "source": [
    "new_fruit=np.array([[165,5.5]])\n",
    "\n",
    "dist_metrics=['euclidean','manhattan','minkowski']\n",
    "\n",
    "for dist_metric in dist_metrics:\n",
    "    print(f\"using Distance metric of {dist_metric}\")\n",
    "    for k in [1,3,5]:\n",
    "        knn=find_neighbours(k,dist_metric,x_train,new_fruit)\n",
    "        prediction=classify(knn)\n",
    "        print(f\"prediction with k={k} is : {prediction}\")\n"
   ]
  },
  {
   "cell_type": "markdown",
   "id": "38eaaeb5-24d9-42c1-8e69-b707b65f3fc0",
   "metadata": {},
   "source": [
    "# Q2 B. Classification of Fruits using Scikit"
   ]
  },
  {
   "cell_type": "markdown",
   "id": "e51353c4-8f37-413c-88ab-2fff00212332",
   "metadata": {},
   "source": [
    "Implement the Python code for Q-1. A using the scikit-learn library. Plot the given samples, using red for \"Apple\" and orange for \"Orange.\" Also, plot the decision boundary. Calculate the distances using Euclidean, Manhattan, and Minkowski metrics, and compare the results."
   ]
  },
  {
   "cell_type": "code",
   "execution_count": 20,
   "id": "0c15b5b9-5883-409e-abbd-5c38cc114d5e",
   "metadata": {},
   "outputs": [
    {
     "name": "stdout",
     "output_type": "stream",
     "text": [
      "prediction with k=1 is : ['Orange']\n",
      "prediction with k=3 is : ['Orange']\n",
      "prediction with k=5 is : ['Orange']\n"
     ]
    }
   ],
   "source": [
    "from sklearn.neighbors import KNeighborsClassifier\n",
    "\n",
    "for k in [1,3,5]:\n",
    "    knn=KNeighborsClassifier(n_neighbors=k,metric='euclidean',algorithm='brute')\n",
    "    knn.fit(x_train,y_train)\n",
    "    prediction = knn.predict(new_fruit)\n",
    "    print(f\"prediction with k={k} is : {prediction}\")"
   ]
  },
  {
   "cell_type": "code",
   "execution_count": 21,
   "id": "e577261f-0fae-4290-be8b-ab3abaceb4d1",
   "metadata": {},
   "outputs": [
    {
     "data": {
      "text/html": [
       "<div>\n",
       "<style scoped>\n",
       "    .dataframe tbody tr th:only-of-type {\n",
       "        vertical-align: middle;\n",
       "    }\n",
       "\n",
       "    .dataframe tbody tr th {\n",
       "        vertical-align: top;\n",
       "    }\n",
       "\n",
       "    .dataframe thead th {\n",
       "        text-align: right;\n",
       "    }\n",
       "</style>\n",
       "<table border=\"1\" class=\"dataframe\">\n",
       "  <thead>\n",
       "    <tr style=\"text-align: right;\">\n",
       "      <th></th>\n",
       "      <th>FRUIT ID</th>\n",
       "      <th>Weight (grams)</th>\n",
       "      <th>Sweetness Level</th>\n",
       "      <th>Label (Fruit Type)</th>\n",
       "      <th>label_num</th>\n",
       "    </tr>\n",
       "  </thead>\n",
       "  <tbody>\n",
       "    <tr>\n",
       "      <th>0</th>\n",
       "      <td>1</td>\n",
       "      <td>180</td>\n",
       "      <td>7</td>\n",
       "      <td>Apple</td>\n",
       "      <td>0</td>\n",
       "    </tr>\n",
       "    <tr>\n",
       "      <th>1</th>\n",
       "      <td>2</td>\n",
       "      <td>200</td>\n",
       "      <td>6</td>\n",
       "      <td>Apple</td>\n",
       "      <td>0</td>\n",
       "    </tr>\n",
       "    <tr>\n",
       "      <th>2</th>\n",
       "      <td>3</td>\n",
       "      <td>150</td>\n",
       "      <td>4</td>\n",
       "      <td>Orange</td>\n",
       "      <td>1</td>\n",
       "    </tr>\n",
       "    <tr>\n",
       "      <th>3</th>\n",
       "      <td>4</td>\n",
       "      <td>170</td>\n",
       "      <td>5</td>\n",
       "      <td>Orange</td>\n",
       "      <td>1</td>\n",
       "    </tr>\n",
       "    <tr>\n",
       "      <th>4</th>\n",
       "      <td>5</td>\n",
       "      <td>160</td>\n",
       "      <td>6</td>\n",
       "      <td>Apple</td>\n",
       "      <td>0</td>\n",
       "    </tr>\n",
       "    <tr>\n",
       "      <th>5</th>\n",
       "      <td>6</td>\n",
       "      <td>140</td>\n",
       "      <td>3</td>\n",
       "      <td>Orange</td>\n",
       "      <td>1</td>\n",
       "    </tr>\n",
       "  </tbody>\n",
       "</table>\n",
       "</div>"
      ],
      "text/plain": [
       "   FRUIT ID  Weight (grams)  Sweetness Level Label (Fruit Type)  label_num\n",
       "0         1             180                7              Apple          0\n",
       "1         2             200                6              Apple          0\n",
       "2         3             150                4             Orange          1\n",
       "3         4             170                5             Orange          1\n",
       "4         5             160                6              Apple          0\n",
       "5         6             140                3             Orange          1"
      ]
     },
     "execution_count": 21,
     "metadata": {},
     "output_type": "execute_result"
    }
   ],
   "source": [
    "grouped.head()"
   ]
  },
  {
   "cell_type": "code",
   "execution_count": null,
   "id": "92301510-8798-46a7-8ad7-43d16a6780db",
   "metadata": {},
   "outputs": [],
   "source": []
  },
  {
   "cell_type": "code",
   "execution_count": null,
   "id": "9c8e5785-d26e-45a9-bafb-98a3df701c58",
   "metadata": {},
   "outputs": [],
   "source": []
  },
  {
   "cell_type": "code",
   "execution_count": null,
   "id": "a4ab45cd-4c3e-4cd7-b61f-6083e4f76607",
   "metadata": {},
   "outputs": [],
   "source": []
  }
 ],
 "metadata": {
  "kernelspec": {
   "display_name": "Python 3 (ipykernel)",
   "language": "python",
   "name": "python3"
  },
  "language_info": {
   "codemirror_mode": {
    "name": "ipython",
    "version": 3
   },
   "file_extension": ".py",
   "mimetype": "text/x-python",
   "name": "python",
   "nbconvert_exporter": "python",
   "pygments_lexer": "ipython3",
   "version": "3.12.4"
  }
 },
 "nbformat": 4,
 "nbformat_minor": 5
}
