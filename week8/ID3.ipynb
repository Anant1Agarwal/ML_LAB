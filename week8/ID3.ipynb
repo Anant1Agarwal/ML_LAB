{
 "cells": [
  {
   "cell_type": "markdown",
   "id": "8b9a92d4-ff07-491c-982f-7b4a8b39df52",
   "metadata": {},
   "source": [
    "# Q-2. A Medical Diagnosis Decision"
   ]
  },
  {
   "cell_type": "markdown",
   "id": "c31bebac-c8e6-43bb-9ccf-f52f817183c0",
   "metadata": {},
   "source": [
    "A dataset is provided to classify patients as \"Healthy\" or \"Sick\" based on their Age, Blood Pressure, and Cholesterol levels."
   ]
  },
  {
   "cell_type": "code",
   "execution_count": 4,
   "id": "4e35302b-7b52-4bd3-88ea-3322e0caa634",
   "metadata": {},
   "outputs": [],
   "source": [
    "import numpy as np\n",
    "import pandas as pd\n",
    "import matplotlib.pyplot as plt"
   ]
  },
  {
   "cell_type": "code",
   "execution_count": 24,
   "id": "3e904bb8-fc0b-4036-bc7b-2f119849d55d",
   "metadata": {
    "scrolled": true
   },
   "outputs": [
    {
     "ename": "NameError",
     "evalue": "name 'pd' is not defined",
     "output_type": "error",
     "traceback": [
      "\u001b[0;31m---------------------------------------------------------------------------\u001b[0m",
      "\u001b[0;31mNameError\u001b[0m                                 Traceback (most recent call last)",
      "Cell \u001b[0;32mIn[24], line 8\u001b[0m\n\u001b[1;32m      1\u001b[0m data \u001b[38;5;241m=\u001b[39m {\n\u001b[1;32m      2\u001b[0m     \u001b[38;5;124m'\u001b[39m\u001b[38;5;124mage\u001b[39m\u001b[38;5;124m'\u001b[39m: [\u001b[38;5;241m30\u001b[39m, \u001b[38;5;241m45\u001b[39m, \u001b[38;5;241m50\u001b[39m, \u001b[38;5;241m35\u001b[39m, \u001b[38;5;241m60\u001b[39m, \u001b[38;5;241m55\u001b[39m, \u001b[38;5;241m40\u001b[39m, \u001b[38;5;241m25\u001b[39m, \u001b[38;5;241m65\u001b[39m, \u001b[38;5;241m45\u001b[39m,\u001b[38;5;241m50\u001b[39m],\n\u001b[1;32m      3\u001b[0m     \u001b[38;5;124m'\u001b[39m\u001b[38;5;124mbp\u001b[39m\u001b[38;5;124m'\u001b[39m: [\u001b[38;5;124m'\u001b[39m\u001b[38;5;124mhigh\u001b[39m\u001b[38;5;124m'\u001b[39m, \u001b[38;5;124m'\u001b[39m\u001b[38;5;124mlow\u001b[39m\u001b[38;5;124m'\u001b[39m, \u001b[38;5;124m'\u001b[39m\u001b[38;5;124mhigh\u001b[39m\u001b[38;5;124m'\u001b[39m, \u001b[38;5;124m'\u001b[39m\u001b[38;5;124mlow\u001b[39m\u001b[38;5;124m'\u001b[39m, \u001b[38;5;124m'\u001b[39m\u001b[38;5;124mhigh\u001b[39m\u001b[38;5;124m'\u001b[39m, \u001b[38;5;124m'\u001b[39m\u001b[38;5;124mlow\u001b[39m\u001b[38;5;124m'\u001b[39m, \u001b[38;5;124m'\u001b[39m\u001b[38;5;124mhigh\u001b[39m\u001b[38;5;124m'\u001b[39m, \u001b[38;5;124m'\u001b[39m\u001b[38;5;124mlow\u001b[39m\u001b[38;5;124m'\u001b[39m, \u001b[38;5;124m'\u001b[39m\u001b[38;5;124mhigh\u001b[39m\u001b[38;5;124m'\u001b[39m, \u001b[38;5;124m'\u001b[39m\u001b[38;5;124mlow\u001b[39m\u001b[38;5;124m'\u001b[39m,\u001b[38;5;124m'\u001b[39m\u001b[38;5;124mhigh\u001b[39m\u001b[38;5;124m'\u001b[39m],\n\u001b[1;32m      4\u001b[0m     \u001b[38;5;124m'\u001b[39m\u001b[38;5;124mcholesterol\u001b[39m\u001b[38;5;124m'\u001b[39m: [\u001b[38;5;124m'\u001b[39m\u001b[38;5;124mhigh\u001b[39m\u001b[38;5;124m'\u001b[39m, \u001b[38;5;124m'\u001b[39m\u001b[38;5;124mnormal\u001b[39m\u001b[38;5;124m'\u001b[39m, \u001b[38;5;124m'\u001b[39m\u001b[38;5;124mhigh\u001b[39m\u001b[38;5;124m'\u001b[39m, \u001b[38;5;124m'\u001b[39m\u001b[38;5;124mnormal\u001b[39m\u001b[38;5;124m'\u001b[39m, \u001b[38;5;124m'\u001b[39m\u001b[38;5;124mhigh\u001b[39m\u001b[38;5;124m'\u001b[39m, \u001b[38;5;124m'\u001b[39m\u001b[38;5;124mnormal\u001b[39m\u001b[38;5;124m'\u001b[39m, \u001b[38;5;124m'\u001b[39m\u001b[38;5;124mhigh\u001b[39m\u001b[38;5;124m'\u001b[39m, \u001b[38;5;124m'\u001b[39m\u001b[38;5;124mnormal\u001b[39m\u001b[38;5;124m'\u001b[39m, \u001b[38;5;124m'\u001b[39m\u001b[38;5;124mhigh\u001b[39m\u001b[38;5;124m'\u001b[39m, \u001b[38;5;124m'\u001b[39m\u001b[38;5;124mnormal\u001b[39m\u001b[38;5;124m'\u001b[39m,\u001b[38;5;124m'\u001b[39m\u001b[38;5;124mnormal\u001b[39m\u001b[38;5;124m'\u001b[39m],\n\u001b[1;32m      5\u001b[0m     \u001b[38;5;124m'\u001b[39m\u001b[38;5;124mdiagnosis\u001b[39m\u001b[38;5;124m'\u001b[39m : [\u001b[38;5;124m'\u001b[39m\u001b[38;5;124msick\u001b[39m\u001b[38;5;124m'\u001b[39m, \u001b[38;5;124m'\u001b[39m\u001b[38;5;124mhealthy\u001b[39m\u001b[38;5;124m'\u001b[39m, \u001b[38;5;124m'\u001b[39m\u001b[38;5;124msick\u001b[39m\u001b[38;5;124m'\u001b[39m, \u001b[38;5;124m'\u001b[39m\u001b[38;5;124mhealthy\u001b[39m\u001b[38;5;124m'\u001b[39m, \u001b[38;5;124m'\u001b[39m\u001b[38;5;124msick\u001b[39m\u001b[38;5;124m'\u001b[39m, \u001b[38;5;124m'\u001b[39m\u001b[38;5;124mhealthy\u001b[39m\u001b[38;5;124m'\u001b[39m, \u001b[38;5;124m'\u001b[39m\u001b[38;5;124msick\u001b[39m\u001b[38;5;124m'\u001b[39m, \u001b[38;5;124m'\u001b[39m\u001b[38;5;124mhealthy\u001b[39m\u001b[38;5;124m'\u001b[39m, \u001b[38;5;124m'\u001b[39m\u001b[38;5;124msick\u001b[39m\u001b[38;5;124m'\u001b[39m, \u001b[38;5;124m'\u001b[39m\u001b[38;5;124mhealthy\u001b[39m\u001b[38;5;124m'\u001b[39m,\u001b[38;5;124m'\u001b[39m\u001b[38;5;124mhealthy\u001b[39m\u001b[38;5;124m'\u001b[39m],\n\u001b[1;32m      6\u001b[0m }\n\u001b[0;32m----> 8\u001b[0m df \u001b[38;5;241m=\u001b[39m pd\u001b[38;5;241m.\u001b[39mDataFrame(data)\n\u001b[1;32m      9\u001b[0m df\u001b[38;5;241m=\u001b[39mdf\u001b[38;5;241m.\u001b[39mdrop(\u001b[38;5;124m'\u001b[39m\u001b[38;5;124mID\u001b[39m\u001b[38;5;124m'\u001b[39m,axis\u001b[38;5;241m=\u001b[39m\u001b[38;5;241m1\u001b[39m)\n\u001b[1;32m     10\u001b[0m df\n",
      "\u001b[0;31mNameError\u001b[0m: name 'pd' is not defined"
     ]
    }
   ],
   "source": [
    "data = {\n",
    "    'age': [30, 45, 50, 35, 60, 55, 40, 25, 65, 45,50],\n",
    "    'bp': ['high', 'low', 'high', 'low', 'high', 'low', 'high', 'low', 'high', 'low','high'],\n",
    "    'cholesterol': ['high', 'normal', 'high', 'normal', 'high', 'normal', 'high', 'normal', 'high', 'normal','normal'],\n",
    "    'diagnosis' : ['sick', 'healthy', 'sick', 'healthy', 'sick', 'healthy', 'sick', 'healthy', 'sick', 'healthy','healthy'],\n",
    "}\n",
    "\n",
    "df = pd.DataFrame(data)\n"
   ]
  },
  {
   "cell_type": "code",
   "execution_count": 19,
   "id": "72b71509-6fd7-4923-a655-e0fce5628981",
   "metadata": {},
   "outputs": [
    {
     "data": {
      "text/plain": [
       "age             int64\n",
       "bp             object\n",
       "cholesterol    object\n",
       "diagnosis      object\n",
       "dtype: object"
      ]
     },
     "execution_count": 19,
     "metadata": {},
     "output_type": "execute_result"
    }
   ],
   "source": [
    "df.dtypes"
   ]
  },
  {
   "cell_type": "code",
   "execution_count": 13,
   "id": "e6191382-e527-4fed-843c-2e75a034110c",
   "metadata": {},
   "outputs": [],
   "source": []
  },
  {
   "cell_type": "code",
   "execution_count": null,
   "id": "c398550b-5bbd-48f8-9709-2425bd86dc5c",
   "metadata": {},
   "outputs": [],
   "source": [
    "NOTE: multi way split in ID3 AND C4.5 ALGOS , multi way supports multi-way splits based on categorical variables.\n",
    "NOTE : BINARY SPLIT IN CART"
   ]
  },
  {
   "cell_type": "code",
   "execution_count": null,
   "id": "df417018-5ea2-45fa-942c-4717eee38a44",
   "metadata": {},
   "outputs": [],
   "source": [
    "from collections import counter\n",
    "\n",
    "class Node():\n",
    "    def __init__(self,feature=None,thresholds=None,branches=None,*,value=None):\n",
    "        self.feature=feature\n",
    "        self.thresholds=thresholds #stores values at which threshold occurs, for numerical values, this would be just 1 value as it is a binary split for numerical,%%!\n",
    "                            # for categorical, it is same as branches values, it is just there to distinguish between CART and ID3 algo.\n",
    "        self.branches=branches #categorical values for which multisplit would occur, represents newer branches# for CART, this would be left or right\n",
    "        self.value=value  #root or leaf\n",
    "\n",
    "    def is_leaf_node():\n",
    "        return self.value is not None\n",
    "\n",
    "class Decision_tree():\n",
    "    def __init__(self, min_samples_split=1, max_depth=1000, n_features=1000,min_gini_impurity=0):\n",
    "        self.min_samples_split=min_samples_split\n",
    "        self.max_depth=max_depth\n",
    "        self.n_features=n_features    # will be used in Random Forest\n",
    "        self.min_gini_impurity=min_gini_impurity\n",
    "        self.root=None\n",
    "        \n",
    "\n",
    "\n",
    "    def fit(self,x,y):\n",
    "        self.root=self.grow_tree(x,y)\n",
    "\n",
    "    def grow_tree(self,x,y,depth):\n",
    "        n_samples, n_feats=x.shape\n",
    "        n_lables=len(np.unique(y))\n",
    "\n",
    "        #stopping criteria \n",
    "        if(depth>=self.max_depth or n_lables==1 or n_samples<=self.min_samples_split):\n",
    "            leaf_value=most_common_label(y)\n",
    "            return Node(value=leaf_value)\n",
    "\n",
    "        #find best split feature\n",
    "        best_feat,best_thresholds=best_split(x,y,n_feats)\n",
    "\n",
    "        all_splitWise_idxs=split(X[:,best_feat],thresholds)\n",
    "        all_branches=[]\n",
    "        for curr_splitwise_idx in all_splitWise_idxs:\n",
    "            x_new=x.drop(columns=df.columns[best_feat])\n",
    "            all_branches.append(grow_tree(x_new[curr_splitwise_idx,:],y[curr_splitwise_idx],depth+1))\n",
    "\n",
    "        return Node(best_feat,best_thresholds,all_branches)\n",
    "\n",
    "    \n",
    "\n",
    "    \n",
    "        \n",
    "\n",
    "    \n",
    "\n",
    "    def most_common_label(y):\n",
    "        counter=Counter(y)\n",
    "        val=counter.most_common(1)[0][0]\n",
    "        return val\n",
    "        \n",
    "    def best_split(x,y,n_feats):\n",
    "        best_gain=-1\n",
    "        split_feature,split_threshold_s=None,None\n",
    "\n",
    "        for feat in n_feats:\n",
    "            x_column=x[: feat]\n",
    "            \n",
    "            #if string type, all the column values will be the thresholds, just need to decide which feature will be taken to split\n",
    "            if(x_column.dtype=='Object'):\n",
    "                thresholds = np.unique(x_column)\n",
    "                gain=information_gain(x_column,y,thesholds)\n",
    "\n",
    "                if gain>best_gain:\n",
    "                    best_gain=gain\n",
    "                    split_feature=feat\n",
    "                    split_threshold_s=thresholds\n",
    "\n",
    "\n",
    "\n",
    "            #if numeric, potential splits are between each numeric value, and the best potential split is taken as the threshold\n",
    "            else:\n",
    "                \n",
    "                \n",
    "        return split_feature, split_threshold_s\n",
    "\n",
    "\n",
    "    def information_gain(x_column,y,thresholds):\n",
    "        parent_entropy=entropy(y)\n",
    "\n",
    "        #create children\n",
    "        splitWise_indxs=split(x_column,thresholds)\n",
    "\n",
    "        child_entropy=0\n",
    "        n=len(y)\n",
    "        for curr_set in splitWise_indxs:\n",
    "            len_curr_set=len(indx_set)\n",
    "            entropy_curr_set=entropy(y[curr_set])\n",
    "            child_entropy+= (len_curr_set/n)*entropy_curr_set\n",
    "        \n",
    "        info_gain=parent_entropy-child_entropy\n",
    "        return info_gain\n",
    "        \n",
    "        \n",
    "     \n",
    "\n",
    "    def entropy(y):\n",
    "        class_labels=np.unique(y)\n",
    "        entropy=0\n",
    "        for cls in class_labels:\n",
    "            p_cls=len(y[y==cls])/len(y)\n",
    "            entropy+=-p_cls*np.log2(p_cls)\n",
    "\n",
    "        # probabilities = y.value_counts(normalize=True)\n",
    "        # entropy = -np.sum(probabilities * np.log2(probabilities))\n",
    "        return entropy\n",
    "        \n",
    "        \n",
    "    def split(x_column,thresholds):\n",
    "        all_indxs=[]\n",
    "        \n",
    "        for thr in thresholds:\n",
    "            thisthr_indxs=np.argwhere(x_column==thr).flatten()\n",
    "            all_indxs.append(thisthr_indxs)\n",
    "        return all_indxs\n",
    "            \n",
    "                \n",
    "           \n",
    "        \n",
    "        \n",
    "        \n",
    "            \n",
    "        \n",
    "        \n",
    "\n",
    "    def predict(): \n",
    "        \n",
    "        \n",
    "        \n",
    "        "
   ]
  },
  {
   "cell_type": "code",
   "execution_count": 21,
   "id": "bdb5f50c-b1f5-4fc6-8159-88c29bf8154b",
   "metadata": {},
   "outputs": [
    {
     "name": "stdout",
     "output_type": "stream",
     "text": [
      "0        sick\n",
      "1     healthy\n",
      "2        sick\n",
      "3     healthy\n",
      "4        sick\n",
      "5     healthy\n",
      "6        sick\n",
      "7     healthy\n",
      "8        sick\n",
      "9     healthy\n",
      "10    healthy\n",
      "Name: diagnosis, dtype: object\n",
      "[array([ 0,  2,  4,  6,  8, 10]), array([1, 3, 5, 7, 9])]\n",
      "0.3545576845354659\n"
     ]
    }
   ],
   "source": []
  },
  {
   "cell_type": "code",
   "execution_count": null,
   "id": "a4694302-a5d4-45d3-9644-625134c0bd9d",
   "metadata": {},
   "outputs": [],
   "source": []
  }
 ],
 "metadata": {
  "kernelspec": {
   "display_name": "Python 3 (ipykernel)",
   "language": "python",
   "name": "python3"
  },
  "language_info": {
   "codemirror_mode": {
    "name": "ipython",
    "version": 3
   },
   "file_extension": ".py",
   "mimetype": "text/x-python",
   "name": "python",
   "nbconvert_exporter": "python",
   "pygments_lexer": "ipython3",
   "version": "3.12.4"
  }
 },
 "nbformat": 4,
 "nbformat_minor": 5
}
