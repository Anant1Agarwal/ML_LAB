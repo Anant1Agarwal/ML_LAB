{
 "cells": [
  {
   "cell_type": "markdown",
   "id": "8b9a92d4-ff07-491c-982f-7b4a8b39df52",
   "metadata": {},
   "source": [
    "# Q-2. A Medical Diagnosis Decision"
   ]
  },
  {
   "cell_type": "markdown",
   "id": "c31bebac-c8e6-43bb-9ccf-f52f817183c0",
   "metadata": {},
   "source": [
    "A dataset is provided to classify patients as \"Healthy\" or \"Sick\" based on their Age, Blood Pressure, and Cholesterol levels."
   ]
  },
  {
   "cell_type": "code",
   "execution_count": 3,
   "id": "4e35302b-7b52-4bd3-88ea-3322e0caa634",
   "metadata": {},
   "outputs": [],
   "source": [
    "import numpy as np\n",
    "import pandas as pd\n",
    "import matplotlib.pyplot as plt"
   ]
  },
  {
   "cell_type": "code",
   "execution_count": 4,
   "id": "3e904bb8-fc0b-4036-bc7b-2f119849d55d",
   "metadata": {},
   "outputs": [
    {
     "data": {
      "text/html": [
       "<div>\n",
       "<style scoped>\n",
       "    .dataframe tbody tr th:only-of-type {\n",
       "        vertical-align: middle;\n",
       "    }\n",
       "\n",
       "    .dataframe tbody tr th {\n",
       "        vertical-align: top;\n",
       "    }\n",
       "\n",
       "    .dataframe thead th {\n",
       "        text-align: right;\n",
       "    }\n",
       "</style>\n",
       "<table border=\"1\" class=\"dataframe\">\n",
       "  <thead>\n",
       "    <tr style=\"text-align: right;\">\n",
       "      <th></th>\n",
       "      <th>age</th>\n",
       "      <th>bp</th>\n",
       "      <th>cholesterol</th>\n",
       "      <th>diagnosis</th>\n",
       "    </tr>\n",
       "  </thead>\n",
       "  <tbody>\n",
       "    <tr>\n",
       "      <th>0</th>\n",
       "      <td>30</td>\n",
       "      <td>high</td>\n",
       "      <td>high</td>\n",
       "      <td>sick</td>\n",
       "    </tr>\n",
       "    <tr>\n",
       "      <th>1</th>\n",
       "      <td>45</td>\n",
       "      <td>low</td>\n",
       "      <td>normal</td>\n",
       "      <td>healthy</td>\n",
       "    </tr>\n",
       "    <tr>\n",
       "      <th>2</th>\n",
       "      <td>50</td>\n",
       "      <td>high</td>\n",
       "      <td>high</td>\n",
       "      <td>sick</td>\n",
       "    </tr>\n",
       "    <tr>\n",
       "      <th>3</th>\n",
       "      <td>35</td>\n",
       "      <td>low</td>\n",
       "      <td>normal</td>\n",
       "      <td>healthy</td>\n",
       "    </tr>\n",
       "    <tr>\n",
       "      <th>4</th>\n",
       "      <td>60</td>\n",
       "      <td>high</td>\n",
       "      <td>high</td>\n",
       "      <td>sick</td>\n",
       "    </tr>\n",
       "    <tr>\n",
       "      <th>5</th>\n",
       "      <td>55</td>\n",
       "      <td>low</td>\n",
       "      <td>normal</td>\n",
       "      <td>healthy</td>\n",
       "    </tr>\n",
       "    <tr>\n",
       "      <th>6</th>\n",
       "      <td>40</td>\n",
       "      <td>high</td>\n",
       "      <td>high</td>\n",
       "      <td>sick</td>\n",
       "    </tr>\n",
       "    <tr>\n",
       "      <th>7</th>\n",
       "      <td>25</td>\n",
       "      <td>low</td>\n",
       "      <td>normal</td>\n",
       "      <td>healthy</td>\n",
       "    </tr>\n",
       "    <tr>\n",
       "      <th>8</th>\n",
       "      <td>65</td>\n",
       "      <td>high</td>\n",
       "      <td>high</td>\n",
       "      <td>sick</td>\n",
       "    </tr>\n",
       "    <tr>\n",
       "      <th>9</th>\n",
       "      <td>45</td>\n",
       "      <td>low</td>\n",
       "      <td>normal</td>\n",
       "      <td>healthy</td>\n",
       "    </tr>\n",
       "  </tbody>\n",
       "</table>\n",
       "</div>"
      ],
      "text/plain": [
       "   age    bp cholesterol diagnosis\n",
       "0   30  high        high      sick\n",
       "1   45   low      normal   healthy\n",
       "2   50  high        high      sick\n",
       "3   35   low      normal   healthy\n",
       "4   60  high        high      sick\n",
       "5   55   low      normal   healthy\n",
       "6   40  high        high      sick\n",
       "7   25   low      normal   healthy\n",
       "8   65  high        high      sick\n",
       "9   45   low      normal   healthy"
      ]
     },
     "execution_count": 4,
     "metadata": {},
     "output_type": "execute_result"
    }
   ],
   "source": [
    "data = {\n",
    "    'age': [30, 45, 50, 35, 60, 55, 40, 25, 65, 45],\n",
    "    'bp': ['high', 'low', 'high', 'low', 'high', 'low', 'high', 'low', 'high', 'low'],\n",
    "    'cholesterol': ['high', 'normal', 'high', 'normal', 'high', 'normal', 'high', 'normal', 'high', 'normal'],\n",
    "    'diagnosis' : ['sick', 'healthy', 'sick', 'healthy', 'sick', 'healthy', 'sick', 'healthy', 'sick', 'healthy'],\n",
    "}\n",
    "\n",
    "df = pd.DataFrame(data)\n",
    "df"
   ]
  },
  {
   "cell_type": "code",
   "execution_count": null,
   "id": "c398550b-5bbd-48f8-9709-2425bd86dc5c",
   "metadata": {},
   "outputs": [],
   "source": [
    "NOTE: multi way split in ID3 AND C4.5 ALGOS , multi way supports multi-way splits based on categorical variables.\n",
    "NOTE : BINARY SPLIT IN CART"
   ]
  },
  {
   "cell_type": "code",
   "execution_count": null,
   "id": "df417018-5ea2-45fa-942c-4717eee38a44",
   "metadata": {},
   "outputs": [],
   "source": [
    "\n",
    "class Node():\n",
    "    def __init__(self,feature=None,thresholds=None,branches=None):\n",
    "        self.feature=feature\n",
    "        self.thresholds=[] #stores values at which threshold occurs, for numerical values, this would be just 1 value as it is a binary split for numerical,%%!\n",
    "                            # for categorical, it is same as branches values, it is just there to distinguish between CART and ID3 algo.\n",
    "        self.branches=[] #categorical values for which multisplit would occur # for CART, this would be left or right\n",
    "        self.value=None  #root or leaf\n",
    "        \n",
    "        \n",
    "        \n",
    "        "
   ]
  }
 ],
 "metadata": {
  "kernelspec": {
   "display_name": "Python 3 (ipykernel)",
   "language": "python",
   "name": "python3"
  },
  "language_info": {
   "codemirror_mode": {
    "name": "ipython",
    "version": 3
   },
   "file_extension": ".py",
   "mimetype": "text/x-python",
   "name": "python",
   "nbconvert_exporter": "python",
   "pygments_lexer": "ipython3",
   "version": "3.12.4"
  }
 },
 "nbformat": 4,
 "nbformat_minor": 5
}
