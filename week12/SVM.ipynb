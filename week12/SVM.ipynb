{
 "cells": [
  {
   "cell_type": "code",
   "execution_count": 2,
   "id": "cac4ac20-c2ef-4a7e-918f-6595a4a16520",
   "metadata": {},
   "outputs": [
    {
     "data": {
      "image/png": "[encoded data removed]",
      "text/plain": [
       "<Figure size 640x480 with 1 Axes>"
      ]
     },
     "metadata": {},
     "output_type": "display_data"
    }
   ],
   "source": [
    "import pandas as pd\n",
    "import numpy as np\n",
    "from matplotlib import pyplot as plt\n",
    "\n",
    "pos_points = [[3, 1], [3, -1], [6, 1],[6,-1]]\n",
    "neg_points = [[1, 0], [0, 1], [0, -1],[-1,0]]\n",
    "\n",
    "fig, ax = plt.subplots()\n",
    "\n",
    "plt.scatter([x[0] for x in pos_points], [x[1] for x in pos_points], color = 'red')\n",
    "plt.scatter([x[0] for x in neg_points], [x[1] for x in neg_points], color = 'blue')\n",
    "plt.show()"
   ]
  },
  {
   "cell_type": "code",
   "execution_count": 19,
   "id": "31b06900-e4a0-421d-9ebd-b20d069dd06c",
   "metadata": {
    "scrolled": true
   },
   "outputs": [
    {
     "name": "stdout",
     "output_type": "stream",
     "text": [
      "Homogeneous Vectors:\n",
      " [[ 1  0  1]\n",
      " [ 3  1  1]\n",
      " [ 3 -1  1]]\n",
      "Gram Matrix (A):\n",
      " [[ 2  4  4]\n",
      " [ 4 11  9]\n",
      " [ 4  9 11]]\n",
      "Target Vector (B): [-1  1  1]\n",
      "Alpha values: [-3.5   0.75  0.75]\n",
      "Weight vector (W): [[ 1.  0. -2.]]\n",
      "99999999 2.0\n"
     ]
    },
    {
     "data": {
      "image/png": "[encoded data removed]",
      "text/plain": [
       "<Figure size 640x480 with 1 Axes>"
      ]
     },
     "metadata": {},
     "output_type": "display_data"
    }
   ],
   "source": [
    "# analyse the above plot to find the support vectors\n",
    "pos_support_vec = [[3, 1], [3,-1]]\n",
    "neg_support_vec = [[1, 0]]\n",
    "vectors =neg_support_vec +pos_support_vec \n",
    "\n",
    "homogenous_vec = np.array([x + [1] for x in vectors])\n",
    "print(\"Homogeneous Vectors:\\n\", homogenous_vec)\n",
    "\n",
    "n = len(vectors)\n",
    "\n",
    "A = homogenous_vec @ np.transpose(homogenous_vec)\n",
    "print(\"Gram Matrix (A):\\n\", A)\n",
    "\n",
    "\n",
    "B = np.array( [-1] * len(neg_support_vec)+[1] * len(pos_support_vec) )\n",
    "print(\"Target Vector (B):\", B)\n",
    "\n",
    "alpha = np.linalg.solve(A, B)\n",
    "print(\"Alpha values:\", alpha)\n",
    "\n",
    "\n",
    "\n",
    "W = np.zeros((1, len(homogenous_vec[0])))\n",
    "ind = 0\n",
    "for x in homogenous_vec:\n",
    "    W = W + (alpha[ind] * x)\n",
    "    ind += 1\n",
    "\n",
    "print(\"Weight vector (W):\", W)\n",
    "\n",
    "# the last index of W has bias\n",
    "# if W[0][1]!=0:\n",
    "#     w, b = W[0][0] / W[0][1], W[0][2] / W[0][1]\n",
    "# else: \n",
    "#     w,b=999999,W[0][2]\n",
    "#weights are never calculated like this\n",
    "\n",
    "\n",
    "W_sub = W[0][:2]\n",
    "norm = np.linalg.norm(W_sub)\n",
    "\n",
    "w1,w2,b=W[0][0],W[0][1],W[0][2]\n",
    "# perpendicualr distance to hyperplane is d\n",
    "# He is a very cheap teacher and just copies solved examples from other sites and make videos.\n",
    "# from Augmented Weight = [w1 w2 w3] = [1 0 -2]\n",
    "# weights, w = [w1 w2] = [1 0] and bias, b = w3 = -2.\n",
    "# weights vector, w is the vector normal to the hyperplane.\n",
    "# d = |b|/norm(w) = |-2|/(1) = 2 is the normal distance of hyperplane from the origin.\n",
    "# sign of the bias, b tells the position of origin relative to the hyperplane that is if it is negative then origin is on left of hyperplane, if it is positive then origin is on right of the hyperplane, and if it is 0 then hyperplane passes through origin.\n",
    "# You can directly write equation of hyperplane of this kind like: x/(d/w1) + y/(d/w2) = 1\n",
    "# which is x/(2/1) + y/(2/0) = 1 => x =2 in this question.\n",
    "d=abs(b)/norm\n",
    "if w1!=0 and w2!=0:\n",
    "    final_w=-1/w1*w2\n",
    "else:\n",
    "    final_w=99999999\n",
    "\n",
    "if w2!=0:\n",
    "    final_b=b/w2\n",
    "else: \n",
    "    final_b=d\n",
    "# Define x range for the decision boundary\n",
    "x_vals = np.linspace(-9, 10, 100)\n",
    "y_vals = final_w * x_vals + final_b # Solve for y in terms of x\n",
    "print(final_w,final_b)# Plot decision boundary\n",
    "\n",
    "\n",
    "fig, ax = plt.subplots()\n",
    "# plt.plot(x_vals, y_vals, color='green', label='Decision Boundary')\n",
    "# plt.scatter([x[0] for x in pos_points], [x[1] for x in pos_points], color = 'red')\n",
    "# plt.scatter([x[0] for x in neg_points], [x[1] for x in neg_points], color = 'blue')\n",
    "# # plt.plot([i for i in range(-1, 7)], [(b0 * x) + b1 for x in range(-1, 7)], color = 'yellow')\n",
    "ax.scatter([x[0] for x in pos_points], [x[1] for x in pos_points], color='red', label='Positive Points')\n",
    "ax.scatter([x[0] for x in neg_points], [x[1] for x in neg_points], color='blue', label='Negative Points')\n",
    "\n",
    "# Set axis limits to prevent auto-scaling\n",
    "ax.set_xlim(min([x[0] for x in pos_points] + [x[0] for x in neg_points]) - 1,\n",
    "            max([x[0] for x in pos_points] + [x[0] for x in neg_points]) + 1)\n",
    "ax.set_ylim(min([x[1] for x in pos_points] + [x[1] for x in neg_points]) - 1,\n",
    "            max([x[1] for x in pos_points] + [x[1] for x in neg_points]) + 1)\n",
    "plt.plot(x_vals, y_vals, color='green', label='Decision Boundary')\n",
    "# Plot decision boundary line\n",
    "ax.plot(x_vals, y_vals, color='green', label='Decision Boundary')\n",
    "plt.show()\n",
    "\n"
   ]
  },
  {
   "cell_type": "code",
   "execution_count": null,
   "id": "c3148940-0868-4ae2-b7c8-544883bb054b",
   "metadata": {},
   "outputs": [],
   "source": []
  }
 ],
 "metadata": {
  "kernelspec": {
   "display_name": "Python 3 (ipykernel)",
   "language": "python",
   "name": "python3"
  },
  "language_info": {
   "codemirror_mode": {
    "name": "ipython",
    "version": 3
   },
   "file_extension": ".py",
   "mimetype": "text/x-python",
   "name": "python",
   "nbconvert_exporter": "python",
   "pygments_lexer": "ipython3",
   "version": "3.12.4"
  }
 },
 "nbformat": 4,
 "nbformat_minor": 5
}
